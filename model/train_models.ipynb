{
 "cells": [
  {
   "cell_type": "code",
   "execution_count": 29,
   "metadata": {},
   "outputs": [],
   "source": [
    "from train import *"
   ]
  },
  {
   "cell_type": "code",
   "execution_count": 47,
   "metadata": {},
   "outputs": [],
   "source": [
    "model, input_size = get_model('squeezenet', 4)"
   ]
  },
  {
   "cell_type": "code",
   "execution_count": 48,
   "metadata": {},
   "outputs": [],
   "source": [
    "optimizer = optim.Adam(model.parameters(), lr=1e-3, weight_decay=1e-4) # Specify optimizer and assign trainable parameters to it, weight_decay is L2 regularization strength\n"
   ]
  },
  {
   "cell_type": "code",
   "execution_count": null,
   "metadata": {},
   "outputs": [],
   "source": [
    "X_train, X_val, Y_train, Y_val = load_data(input_size, isFayoum=False)\n",
    "\n",
    "X_train, X_val = normalize(X_train, X_val)\n",
    "\n",
    "train_dataset = utils.TensorDataset(torch.FloatTensor(X_train), torch.LongTensor(Y_train))\n",
    "test_dataset = utils.TensorDataset(torch.FloatTensor(X_val), torch.LongTensor(Y_val))\n",
    "\n",
    "trainloader = DataLoader(train_dataset, batch_size=8, shuffle=True)\n",
    "testloader = DataLoader(test_dataset, batch_size=8, shuffle=True)\n",
    "\n",
    "\n",
    "\n"
   ]
  },
  {
   "cell_type": "code",
   "execution_count": null,
   "metadata": {},
   "outputs": [],
   "source": [
    "print(X_train.shape)\n",
    "\n",
    "train(model, trainloader, optimizer, num_epoch=2)\n",
    "evaluate(model, testloader)\n"
   ]
  },
  {
   "cell_type": "code",
   "execution_count": null,
   "metadata": {},
   "outputs": [],
   "source": [
    "X_train_f, X_val_f, Y_train_f, Y_val_f = load_data(input_size, isFayoum=True)\n",
    "\n",
    "X_train_f, X_val_f = normalize(X_train_f, X_val_f)\n",
    "\n",
    "train_dataset_f = utils.TensorDataset(torch.FloatTensor(X_train_f), torch.LongTensor(Y_train_f))\n",
    "test_dataset_f = utils.TensorDataset(torch.FloatTensor(X_val_f), torch.LongTensor(Y_val_f))\n",
    "\n",
    "trainloader_f = DataLoader(train_dataset_f, batch_size=8, shuffle=True)\n",
    "testloader_f = DataLoader(test_dataset_f, batch_size=8, shuffle=True)\n",
    "\n",
    "\n",
    "\n"
   ]
  },
  {
   "cell_type": "code",
   "execution_count": null,
   "metadata": {},
   "outputs": [],
   "source": [
    "model_1, input_size = get_model('squeezenet', 4)\n",
    "optimizer_1 = optim.Adam(model_1.parameters(), lr=1e-3, weight_decay=1e-4) # Specify optimizer and assign trainable parameters to it, weight_decay is L2 regularization strength\n"
   ]
  },
  {
   "cell_type": "code",
   "execution_count": null,
   "metadata": {},
   "outputs": [],
   "source": [
    "train(model_1, trainloader_f, optimizer_1, num_epoch=2)\n",
    "evaluate(model_1, testloader_f)\n"
   ]
  },
  {
   "cell_type": "code",
   "execution_count": null,
   "metadata": {},
   "outputs": [],
   "source": [
    "evaluate(model_1, testloader_f)\n"
   ]
  },
  {
   "cell_type": "code",
   "execution_count": null,
   "metadata": {},
   "outputs": [],
   "source": [
    "evaluate(model_1, testloader)"
   ]
  }
 ],
 "metadata": {
  "kernelspec": {
   "display_name": "Python 3",
   "language": "python",
   "name": "python3"
  },
  "language_info": {
   "codemirror_mode": {
    "name": "ipython",
    "version": 3
   },
   "file_extension": ".py",
   "mimetype": "text/x-python",
   "name": "python",
   "nbconvert_exporter": "python",
   "pygments_lexer": "ipython3",
   "version": "3.6.8"
  }
 },
 "nbformat": 4,
 "nbformat_minor": 2
}
